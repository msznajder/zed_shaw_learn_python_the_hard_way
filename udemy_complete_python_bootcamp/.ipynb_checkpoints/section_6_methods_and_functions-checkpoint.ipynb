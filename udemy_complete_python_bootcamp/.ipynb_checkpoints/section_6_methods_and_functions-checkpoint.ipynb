{
 "cells": [
  {
   "cell_type": "markdown",
   "metadata": {},
   "source": [
    "## Methods\n",
    "\n",
    "Methods are essentially functions built into objects. \n",
    "\n",
    "Later on in the course we will learn about how to create our own objects and methods using Object Oriented Programming (OOP) and classes.\n",
    "\n",
    "Methods will perform specific actions on the object and can also take arguments, just like a function.\n",
    "\n",
    "You'll later see that we can think of methods as having an argument 'self' referring to the object itself."
   ]
  },
  {
   "cell_type": "code",
   "execution_count": 1,
   "metadata": {
    "collapsed": true
   },
   "outputs": [],
   "source": [
    "l = [1, 2, 3, 4]"
   ]
  },
  {
   "cell_type": "code",
   "execution_count": 5,
   "metadata": {
    "collapsed": false
   },
   "outputs": [
    {
     "data": {
      "text/plain": [
       "[]"
      ]
     },
     "execution_count": 5,
     "metadata": {},
     "output_type": "execute_result"
    }
   ],
   "source": [
    "# Use tab button with curson right after \".\" to see all the methods for this object.\n",
    "l."
   ]
  },
  {
   "cell_type": "code",
   "execution_count": 6,
   "metadata": {
    "collapsed": false
   },
   "outputs": [
    {
     "data": {
      "text/plain": [
       "[5]"
      ]
     },
     "execution_count": 6,
     "metadata": {},
     "output_type": "execute_result"
    }
   ],
   "source": [
    "# Append modifies the object.\n",
    "l.append(5)\n",
    "l"
   ]
  },
  {
   "cell_type": "code",
   "execution_count": 8,
   "metadata": {
    "collapsed": false
   },
   "outputs": [
    {
     "data": {
      "text/plain": [
       "0"
      ]
     },
     "execution_count": 8,
     "metadata": {},
     "output_type": "execute_result"
    }
   ],
   "source": [
    "# Count returns value - number of occurences.\n",
    "l.count(3)"
   ]
  },
  {
   "cell_type": "markdown",
   "metadata": {},
   "source": [
    "To get help use shift+tab or help()."
   ]
  },
  {
   "cell_type": "markdown",
   "metadata": {},
   "source": [
    "## Functions\n",
    "\n",
    "Formally, a function is a useful device that groups together a set of statements so they can be run more than once. They can also let us specify parameters that can serve as inputs to the functions.\n",
    "\n",
    "On a more fundamental level, functions allow us to not have to repeatedly write the same code again and again. \n",
    "\n",
    "Functions will be one of most basic levels of reusing code in Python, and it will also allow us to start thinking of program design (we will dive much deeper into the ideas of design when we learn about Object Oriented Programming)."
   ]
  },
  {
   "cell_type": "code",
   "execution_count": 9,
   "metadata": {
    "collapsed": true
   },
   "outputs": [],
   "source": [
    "def name_of_function(arg1, arg2):\n",
    "    '''\n",
    "    This is where the function's doc-string goes.\n",
    "    '''\n",
    "    pass"
   ]
  },
  {
   "cell_type": "code",
   "execution_count": 10,
   "metadata": {
    "collapsed": false
   },
   "outputs": [
    {
     "name": "stdout",
     "output_type": "stream",
     "text": [
      "Help on function name_of_function in module __main__:\n",
      "\n",
      "name_of_function(arg1, arg2)\n",
      "    This is where the function's doc-string goes.\n",
      "\n"
     ]
    }
   ],
   "source": [
    "help(name_of_function)"
   ]
  },
  {
   "cell_type": "markdown",
   "metadata": {},
   "source": [
    "## Lambda expressions"
   ]
  },
  {
   "cell_type": "markdown",
   "metadata": {},
   "source": [
    "What does lambda do?\n",
    "Lambda expressions allow us to create \"anonymous\" functions. This basically means we can quickly make ad-hoc functions without needing to properly define a function using def.\n"
   ]
  },
  {
   "cell_type": "markdown",
   "metadata": {},
   "source": [
    "Function objects returned by running lambda expressions work exactly the same as those created and assigned by defs.\n"
   ]
  },
  {
   "cell_type": "markdown",
   "metadata": {},
   "source": [
    "There is key difference that makes lambda useful in specialized roles:\n",
    "lambda's body is a single expression, not a block of statements.\n",
    "\n",
    "The lambda's body is similar to what we would put in a def body's return statement. We simply type the result as an expression instead of explicitly returning it. \n",
    "\n",
    "Because it is limited to an expression, a lambda is less general that a def. We can only squeeze design, to limit program nesting. lambda is designed for coding simple functions, and def handles the larger tasks.\n"
   ]
  },
  {
   "cell_type": "code",
   "execution_count": 1,
   "metadata": {
    "collapsed": true
   },
   "outputs": [],
   "source": [
    "def square(num):\n",
    "    result = num**2\n",
    "    return result"
   ]
  },
  {
   "cell_type": "code",
   "execution_count": 2,
   "metadata": {
    "collapsed": false
   },
   "outputs": [
    {
     "data": {
      "text/plain": [
       "4"
      ]
     },
     "execution_count": 2,
     "metadata": {},
     "output_type": "execute_result"
    }
   ],
   "source": [
    "square(2)"
   ]
  },
  {
   "cell_type": "markdown",
   "metadata": {},
   "source": [
    "Let's reduce it to lambda."
   ]
  },
  {
   "cell_type": "code",
   "execution_count": 3,
   "metadata": {
    "collapsed": true
   },
   "outputs": [],
   "source": [
    "def square(num):\n",
    "    return num**2"
   ]
  },
  {
   "cell_type": "code",
   "execution_count": 4,
   "metadata": {
    "collapsed": true
   },
   "outputs": [],
   "source": [
    "def square(num): return num**2"
   ]
  },
  {
   "cell_type": "code",
   "execution_count": 5,
   "metadata": {
    "collapsed": false
   },
   "outputs": [
    {
     "data": {
      "text/plain": [
       "<function __main__.<lambda>>"
      ]
     },
     "execution_count": 5,
     "metadata": {},
     "output_type": "execute_result"
    }
   ],
   "source": [
    "lambda num: num**2"
   ]
  },
  {
   "cell_type": "code",
   "execution_count": 8,
   "metadata": {
    "collapsed": true
   },
   "outputs": [],
   "source": [
    "square2 = lambda num: num**2"
   ]
  },
  {
   "cell_type": "code",
   "execution_count": 9,
   "metadata": {
    "collapsed": false
   },
   "outputs": [
    {
     "data": {
      "text/plain": [
       "4"
      ]
     },
     "execution_count": 9,
     "metadata": {},
     "output_type": "execute_result"
    }
   ],
   "source": [
    "square2(2)"
   ]
  },
  {
   "cell_type": "code",
   "execution_count": 10,
   "metadata": {
    "collapsed": true
   },
   "outputs": [],
   "source": [
    "def even(num):\n",
    "    return num%2 == 0"
   ]
  },
  {
   "cell_type": "code",
   "execution_count": 11,
   "metadata": {
    "collapsed": true
   },
   "outputs": [],
   "source": [
    "even = lambda num: num%2 == 0"
   ]
  },
  {
   "cell_type": "code",
   "execution_count": 14,
   "metadata": {
    "collapsed": true
   },
   "outputs": [],
   "source": [
    "def first(s):\n",
    "    return s[0]"
   ]
  },
  {
   "cell_type": "code",
   "execution_count": 12,
   "metadata": {
    "collapsed": false
   },
   "outputs": [
    {
     "data": {
      "text/plain": [
       "<function __main__.<lambda>>"
      ]
     },
     "execution_count": 12,
     "metadata": {},
     "output_type": "execute_result"
    }
   ],
   "source": [
    "lambda s: s[0] # first character"
   ]
  },
  {
   "cell_type": "code",
   "execution_count": 12,
   "metadata": {
    "collapsed": false
   },
   "outputs": [
    {
     "data": {
      "text/plain": [
       "<function __main__.<lambda>>"
      ]
     },
     "execution_count": 12,
     "metadata": {},
     "output_type": "execute_result"
    }
   ],
   "source": [
    "lambda s: s[::-1]"
   ]
  },
  {
   "cell_type": "code",
   "execution_count": 15,
   "metadata": {
    "collapsed": false
   },
   "outputs": [
    {
     "data": {
      "text/plain": [
       "<function __main__.<lambda>>"
      ]
     },
     "execution_count": 15,
     "metadata": {},
     "output_type": "execute_result"
    }
   ],
   "source": [
    "lambda x, y: x + y"
   ]
  },
  {
   "cell_type": "code",
   "execution_count": 13,
   "metadata": {
    "collapsed": false
   },
   "outputs": [
    {
     "data": {
      "text/plain": [
       "<function __main__.<lambda>>"
      ]
     },
     "execution_count": 13,
     "metadata": {},
     "output_type": "execute_result"
    }
   ],
   "source": [
    "lambda s: s[::-1] # reverse"
   ]
  },
  {
   "cell_type": "markdown",
   "metadata": {},
   "source": [
    "## Nested Statements and Scope\n",
    "\n",
    "When you create a variable name in Python the name is stored in a name-space. Variable names also have a scope, the scope determines the visibility of that variable name to other parts of your code."
   ]
  },
  {
   "cell_type": "code",
   "execution_count": 16,
   "metadata": {
    "collapsed": false
   },
   "outputs": [
    {
     "name": "stdout",
     "output_type": "stream",
     "text": [
      "25\n",
      "50\n",
      "25\n"
     ]
    }
   ],
   "source": [
    "x = 25\n",
    "\n",
    "def printer():\n",
    "    x = 50\n",
    "    return x\n",
    "\n",
    "print(x)\n",
    "print(printer())\n",
    "print(x)"
   ]
  },
  {
   "cell_type": "markdown",
   "metadata": {
    "collapsed": true
   },
   "source": [
    "How does Python know which x you're referring to in your code? This is where the idea of scope comes in. Python has a set of rules it follows to decide what variables (such as x in this case) you are referencing in your code.\n",
    "\n",
    "In simple terms, the idea of scope can be described by 3 general rules:\n",
    "\n",
    "- 1) Name assignments will create or change local names by default.\n",
    "- 2) Name references search (at most) four scopes, these are:\n",
    "- local\n",
    "- enclosing functions\n",
    "- global\n",
    "- built-in\n",
    "- 3) Names declared in global and nonlocal statements map assigned names to enclosing module and function scopes.\n"
   ]
  },
  {
   "cell_type": "markdown",
   "metadata": {
    "collapsed": true
   },
   "source": [
    "The statement in #2 above can be defined by the LEGB rule.\n",
    "\n",
    "L: Local — Names assigned in any way within a function (def or lambda)), and not declared global in that function.\n",
    "\n",
    "E: Enclosing function locals — Name in the local scope of any and all enclosing functions (def or lambda), from inner to outer.\n",
    "\n",
    "G: Global (module) — Names assigned at the top-level of a module file, or declared global in a def within the file.\n",
    "\n",
    "B: Built-in (Python) — Names preassigned in the built-in names module : open,range,SyntaxError,...\n",
    "\n",
    "### Examples of LEGB\n",
    "\n",
    "#### Local\n",
    "x is local here"
   ]
  },
  {
   "cell_type": "code",
   "execution_count": 18,
   "metadata": {
    "collapsed": false
   },
   "outputs": [],
   "source": [
    "f = lambda x: x**2"
   ]
  },
  {
   "cell_type": "markdown",
   "metadata": {
    "collapsed": true
   },
   "source": [
    "#### Enclosing function locals\n",
    "This occurs when we have a function inside a function (nested functions)"
   ]
  },
  {
   "cell_type": "code",
   "execution_count": 19,
   "metadata": {
    "collapsed": false
   },
   "outputs": [
    {
     "name": "stdout",
     "output_type": "stream",
     "text": [
      "Hello Sammy\n"
     ]
    }
   ],
   "source": [
    "name = \"This is a global name.\"\n",
    "\n",
    "def greet():\n",
    "    # Enclosing function\n",
    "    name = \"Sammy\"\n",
    "    \n",
    "    def hello():\n",
    "        print(\"Hello\", name)\n",
    "        \n",
    "    hello()\n",
    "    \n",
    "greet()"
   ]
  },
  {
   "cell_type": "markdown",
   "metadata": {
    "collapsed": true
   },
   "source": [
    "#### Global\n",
    "Luckily in Jupyter a quick way to test for global variables is to see if another cell recognizes the variable!"
   ]
  },
  {
   "cell_type": "code",
   "execution_count": 20,
   "metadata": {
    "collapsed": false
   },
   "outputs": [
    {
     "name": "stdout",
     "output_type": "stream",
     "text": [
      "This is a global name.\n"
     ]
    }
   ],
   "source": [
    "print(name)"
   ]
  },
  {
   "cell_type": "markdown",
   "metadata": {
    "collapsed": true
   },
   "source": [
    "#### Built-in\n",
    "These are the built-in function names in Python (don't overwrite these!)"
   ]
  },
  {
   "cell_type": "code",
   "execution_count": 21,
   "metadata": {
    "collapsed": false
   },
   "outputs": [
    {
     "data": {
      "text/plain": [
       "<function len>"
      ]
     },
     "execution_count": 21,
     "metadata": {},
     "output_type": "execute_result"
    }
   ],
   "source": [
    "len"
   ]
  },
  {
   "cell_type": "markdown",
   "metadata": {},
   "source": [
    "### Local Variables\n",
    "\n",
    "When you declare variables inside a function definition, they are not related in any way to other variables with the same names used outside the function - i.e. variable names are local to the function."
   ]
  },
  {
   "cell_type": "code",
   "execution_count": 23,
   "metadata": {
    "collapsed": false
   },
   "outputs": [
    {
     "name": "stdout",
     "output_type": "stream",
     "text": [
      "x is 50\n",
      "Changed local x to 2\n",
      "x is still 50\n"
     ]
    }
   ],
   "source": [
    "x = 50\n",
    "\n",
    "def func(x):\n",
    "    print(\"x is\", x)\n",
    "    x = 2\n",
    "    print(\"Changed local x to\", x)\n",
    "    \n",
    "func(x)\n",
    "print(\"x is still\", x)"
   ]
  },
  {
   "cell_type": "markdown",
   "metadata": {},
   "source": [
    "The first time that we print the value of the name x with the first line in the function’s body, Python uses the value of the parameter declared in the main block, above the function definition.\n",
    "\n",
    "Next, we assign the value 2 to x. The name x is local to our function. So, when we change the value of x in the function, the x defined in the main block remains unaffected.\n",
    "\n",
    "With the last print statement, we display the value of x as defined in the main block, thereby confirming that it is actually unaffected by the local assignment within the previously called function."
   ]
  },
  {
   "cell_type": "markdown",
   "metadata": {},
   "source": [
    "### The global statement\n",
    "\n",
    "If you want to assign a value to a name defined at the top level of the program (i.e. not inside any kind of scope such as functions or classes), then you have to tell Python that the name is not local, but it is global. We do this using the global statement. It is impossible to assign a value to a variable defined outside a function without the global statement.\n",
    "\n",
    "You can use the values of such variables defined outside the function (assuming there is no variable with the same name within the function). However, this is not encouraged and should be avoided since it becomes unclear to the reader of the program as to where that variable’s definition is. Using the global statement makes it amply clear that the variable is defined in an outermost block."
   ]
  },
  {
   "cell_type": "code",
   "execution_count": 24,
   "metadata": {
    "collapsed": false
   },
   "outputs": [
    {
     "name": "stdout",
     "output_type": "stream",
     "text": [
      "Before calling func(), x is:  50\n",
      "This function is now using the global x!\n",
      "Because of global x is: 50\n",
      "Ran func(), changed global x to 2\n",
      "Value of x (outside of func()) is: 2\n"
     ]
    }
   ],
   "source": [
    "x = 50\n",
    "\n",
    "def func():\n",
    "    global x\n",
    "    print(\"This function is now using the global x!\")\n",
    "    print(\"Because of global x is:\", x)\n",
    "    x = 2\n",
    "    print(\"Ran func(), changed global x to\", x)\n",
    "\n",
    "print(\"Before calling func(), x is: \", x)\n",
    "func()\n",
    "print(\"Value of x (outside of func()) is:\", x)"
   ]
  },
  {
   "cell_type": "markdown",
   "metadata": {},
   "source": [
    "The global statement is used to declare that x is a global variable - hence, when we assign a value to x inside the function, that change is reflected when we use the value of x in the main block.\n",
    "\n",
    "You can specify more than one global variable using the same global statement."
   ]
  },
  {
   "cell_type": "code",
   "execution_count": 25,
   "metadata": {
    "collapsed": true
   },
   "outputs": [],
   "source": [
    "global x, y, z"
   ]
  },
  {
   "cell_type": "markdown",
   "metadata": {},
   "source": [
    "You can use the globals() and locals() functions to check what are your current local and global variables."
   ]
  },
  {
   "cell_type": "code",
   "execution_count": 26,
   "metadata": {
    "collapsed": false
   },
   "outputs": [
    {
     "data": {
      "text/plain": [
       "{'In': ['',\n",
       "  'l = [1, 2, 3, 4]',\n",
       "  '# Use tab button with curson right after \".\" to see all the methods for this object.\\nl.',\n",
       "  '# Use tab button with curson right after \".\" to see all the methods for this object.\\nl.clear()',\n",
       "  '# Use tab button with curson right after \".\" to see all the methods for this object.\\nl.clear()\\nl',\n",
       "  '# Use tab button with curson right after \".\" to see all the methods for this object.\\nl',\n",
       "  '# Append modifies the object.\\nl.append(5)\\nl',\n",
       "  '# Count returns value - number of occurences.\\nl.count(2)',\n",
       "  '# Count returns value - number of occurences.\\nl.count(3)',\n",
       "  \"def name_of_function(arg1, arg2):\\n    '''\\n    This is where the function's doc-string goes.\\n    '''\\n    pass\",\n",
       "  'help(name_of_function)',\n",
       "  'lambda x: x % 2 == 0 # even',\n",
       "  'lambda s: s[0] # first character',\n",
       "  'lambda s: s[::-1] # reverse',\n",
       "  'lambda x, y: x + y',\n",
       "  'x = 25\\n\\ndef printer():\\n    x = 50\\n    return x\\n\\nprint(x)\\nprinter()\\nprint(x)',\n",
       "  'x = 25\\n\\ndef printer():\\n    x = 50\\n    return x\\n\\nprint(x)\\nprint(printer())\\nprint(x)',\n",
       "  '# x is local here\\nx',\n",
       "  '# x is local here\\nf = lambda x: x**2',\n",
       "  'name = \"This is a global name.\"\\n\\ndef greet():\\n    # Enclosing function\\n    name = \"Sammy\"\\n    \\n    def hello():\\n        print(\"Hello\", name)\\n        \\n    hello()\\n    \\ngreet()',\n",
       "  'print(name)',\n",
       "  'len',\n",
       "  'x = 50\\n\\ndef func(x):\\n    print(\"x is\", x)\\n    x = 2\\n    print(\"Changed local x to\", x)\\n    \\nfunc()\\nprint(\"x is still\", x)',\n",
       "  'x = 50\\n\\ndef func(x):\\n    print(\"x is\", x)\\n    x = 2\\n    print(\"Changed local x to\", x)\\n    \\nfunc(x)\\nprint(\"x is still\", x)',\n",
       "  'x = 50\\n\\ndef func():\\n    global x\\n    print(\"This function is now using the global x!\")\\n    print(\"Because of global x is:\", x)\\n    x = 2\\n    print(\"Ran func(), changed global x to\", x)\\n\\nprint(\"Before calling func(), x is: \", x)\\nfunc()\\nprint(\"Value of x (outside of func()) is:\", x)',\n",
       "  'global x, y, z',\n",
       "  'locals()'],\n",
       " 'Out': {4: [5],\n",
       "  5: [5],\n",
       "  6: [5],\n",
       "  7: 0,\n",
       "  8: 0,\n",
       "  11: <function __main__.<lambda>>,\n",
       "  12: <function __main__.<lambda>>,\n",
       "  13: <function __main__.<lambda>>,\n",
       "  14: <function __main__.<lambda>>,\n",
       "  17: 25,\n",
       "  21: <function len>},\n",
       " '_': <function len>,\n",
       " '_11': <function __main__.<lambda>>,\n",
       " '_12': <function __main__.<lambda>>,\n",
       " '_13': <function __main__.<lambda>>,\n",
       " '_14': <function __main__.<lambda>>,\n",
       " '_17': 25,\n",
       " '_21': <function len>,\n",
       " '_4': [5],\n",
       " '_5': [5],\n",
       " '_6': [5],\n",
       " '_7': 0,\n",
       " '_8': 0,\n",
       " '__': 25,\n",
       " '___': <function __main__.<lambda>>,\n",
       " '__builtin__': <module 'builtins' (built-in)>,\n",
       " '__builtins__': <module 'builtins' (built-in)>,\n",
       " '__doc__': 'Automatically created module for IPython interactive environment',\n",
       " '__loader__': None,\n",
       " '__name__': '__main__',\n",
       " '__package__': None,\n",
       " '__spec__': None,\n",
       " '_dh': ['/Users/michalsznajder/Dropbox/github/learning_python/udemy_complete_python_bootcamp'],\n",
       " '_i': 'global x, y, z',\n",
       " '_i1': 'l = [1, 2, 3, 4]',\n",
       " '_i10': 'help(name_of_function)',\n",
       " '_i11': 'lambda x: x % 2 == 0 # even',\n",
       " '_i12': 'lambda s: s[0] # first character',\n",
       " '_i13': 'lambda s: s[::-1] # reverse',\n",
       " '_i14': 'lambda x, y: x + y',\n",
       " '_i15': 'x = 25\\n\\ndef printer():\\n    x = 50\\n    return x\\n\\nprint(x)\\nprinter()\\nprint(x)',\n",
       " '_i16': 'x = 25\\n\\ndef printer():\\n    x = 50\\n    return x\\n\\nprint(x)\\nprint(printer())\\nprint(x)',\n",
       " '_i17': '# x is local here\\nx',\n",
       " '_i18': '# x is local here\\nf = lambda x: x**2',\n",
       " '_i19': 'name = \"This is a global name.\"\\n\\ndef greet():\\n    # Enclosing function\\n    name = \"Sammy\"\\n    \\n    def hello():\\n        print(\"Hello\", name)\\n        \\n    hello()\\n    \\ngreet()',\n",
       " '_i2': '# Use tab button with curson right after \".\" to see all the methods for this object.\\nl.',\n",
       " '_i20': 'print(name)',\n",
       " '_i21': 'len',\n",
       " '_i22': 'x = 50\\n\\ndef func(x):\\n    print(\"x is\", x)\\n    x = 2\\n    print(\"Changed local x to\", x)\\n    \\nfunc()\\nprint(\"x is still\", x)',\n",
       " '_i23': 'x = 50\\n\\ndef func(x):\\n    print(\"x is\", x)\\n    x = 2\\n    print(\"Changed local x to\", x)\\n    \\nfunc(x)\\nprint(\"x is still\", x)',\n",
       " '_i24': 'x = 50\\n\\ndef func():\\n    global x\\n    print(\"This function is now using the global x!\")\\n    print(\"Because of global x is:\", x)\\n    x = 2\\n    print(\"Ran func(), changed global x to\", x)\\n\\nprint(\"Before calling func(), x is: \", x)\\nfunc()\\nprint(\"Value of x (outside of func()) is:\", x)',\n",
       " '_i25': 'global x, y, z',\n",
       " '_i26': 'locals()',\n",
       " '_i3': '# Use tab button with curson right after \".\" to see all the methods for this object.\\nl.clear()',\n",
       " '_i4': '# Use tab button with curson right after \".\" to see all the methods for this object.\\nl.clear()\\nl',\n",
       " '_i5': '# Use tab button with curson right after \".\" to see all the methods for this object.\\nl',\n",
       " '_i6': '# Append modifies the object.\\nl.append(5)\\nl',\n",
       " '_i7': '# Count returns value - number of occurences.\\nl.count(2)',\n",
       " '_i8': '# Count returns value - number of occurences.\\nl.count(3)',\n",
       " '_i9': \"def name_of_function(arg1, arg2):\\n    '''\\n    This is where the function's doc-string goes.\\n    '''\\n    pass\",\n",
       " '_ih': ['',\n",
       "  'l = [1, 2, 3, 4]',\n",
       "  '# Use tab button with curson right after \".\" to see all the methods for this object.\\nl.',\n",
       "  '# Use tab button with curson right after \".\" to see all the methods for this object.\\nl.clear()',\n",
       "  '# Use tab button with curson right after \".\" to see all the methods for this object.\\nl.clear()\\nl',\n",
       "  '# Use tab button with curson right after \".\" to see all the methods for this object.\\nl',\n",
       "  '# Append modifies the object.\\nl.append(5)\\nl',\n",
       "  '# Count returns value - number of occurences.\\nl.count(2)',\n",
       "  '# Count returns value - number of occurences.\\nl.count(3)',\n",
       "  \"def name_of_function(arg1, arg2):\\n    '''\\n    This is where the function's doc-string goes.\\n    '''\\n    pass\",\n",
       "  'help(name_of_function)',\n",
       "  'lambda x: x % 2 == 0 # even',\n",
       "  'lambda s: s[0] # first character',\n",
       "  'lambda s: s[::-1] # reverse',\n",
       "  'lambda x, y: x + y',\n",
       "  'x = 25\\n\\ndef printer():\\n    x = 50\\n    return x\\n\\nprint(x)\\nprinter()\\nprint(x)',\n",
       "  'x = 25\\n\\ndef printer():\\n    x = 50\\n    return x\\n\\nprint(x)\\nprint(printer())\\nprint(x)',\n",
       "  '# x is local here\\nx',\n",
       "  '# x is local here\\nf = lambda x: x**2',\n",
       "  'name = \"This is a global name.\"\\n\\ndef greet():\\n    # Enclosing function\\n    name = \"Sammy\"\\n    \\n    def hello():\\n        print(\"Hello\", name)\\n        \\n    hello()\\n    \\ngreet()',\n",
       "  'print(name)',\n",
       "  'len',\n",
       "  'x = 50\\n\\ndef func(x):\\n    print(\"x is\", x)\\n    x = 2\\n    print(\"Changed local x to\", x)\\n    \\nfunc()\\nprint(\"x is still\", x)',\n",
       "  'x = 50\\n\\ndef func(x):\\n    print(\"x is\", x)\\n    x = 2\\n    print(\"Changed local x to\", x)\\n    \\nfunc(x)\\nprint(\"x is still\", x)',\n",
       "  'x = 50\\n\\ndef func():\\n    global x\\n    print(\"This function is now using the global x!\")\\n    print(\"Because of global x is:\", x)\\n    x = 2\\n    print(\"Ran func(), changed global x to\", x)\\n\\nprint(\"Before calling func(), x is: \", x)\\nfunc()\\nprint(\"Value of x (outside of func()) is:\", x)',\n",
       "  'global x, y, z',\n",
       "  'locals()'],\n",
       " '_ii': 'x = 50\\n\\ndef func():\\n    global x\\n    print(\"This function is now using the global x!\")\\n    print(\"Because of global x is:\", x)\\n    x = 2\\n    print(\"Ran func(), changed global x to\", x)\\n\\nprint(\"Before calling func(), x is: \", x)\\nfunc()\\nprint(\"Value of x (outside of func()) is:\", x)',\n",
       " '_iii': 'x = 50\\n\\ndef func(x):\\n    print(\"x is\", x)\\n    x = 2\\n    print(\"Changed local x to\", x)\\n    \\nfunc(x)\\nprint(\"x is still\", x)',\n",
       " '_oh': {4: [5],\n",
       "  5: [5],\n",
       "  6: [5],\n",
       "  7: 0,\n",
       "  8: 0,\n",
       "  11: <function __main__.<lambda>>,\n",
       "  12: <function __main__.<lambda>>,\n",
       "  13: <function __main__.<lambda>>,\n",
       "  14: <function __main__.<lambda>>,\n",
       "  17: 25,\n",
       "  21: <function len>},\n",
       " '_sh': <module 'IPython.core.shadowns' from '//anaconda/lib/python3.6/site-packages/IPython/core/shadowns.py'>,\n",
       " 'exit': <IPython.core.autocall.ZMQExitAutocall at 0x10a0a42e8>,\n",
       " 'f': <function __main__.<lambda>>,\n",
       " 'func': <function __main__.func>,\n",
       " 'get_ipython': <bound method InteractiveShell.get_ipython of <ipykernel.zmqshell.ZMQInteractiveShell object at 0x10a05d3c8>>,\n",
       " 'greet': <function __main__.greet>,\n",
       " 'l': [5],\n",
       " 'name': 'This is a global name.',\n",
       " 'name_of_function': <function __main__.name_of_function>,\n",
       " 'printer': <function __main__.printer>,\n",
       " 'quit': <IPython.core.autocall.ZMQExitAutocall at 0x10a0a42e8>,\n",
       " 'x': 2}"
      ]
     },
     "execution_count": 26,
     "metadata": {},
     "output_type": "execute_result"
    }
   ],
   "source": [
    "locals()"
   ]
  },
  {
   "cell_type": "code",
   "execution_count": 28,
   "metadata": {
    "collapsed": false
   },
   "outputs": [
    {
     "data": {
      "text/plain": [
       "{'In': ['',\n",
       "  'l = [1, 2, 3, 4]',\n",
       "  '# Use tab button with curson right after \".\" to see all the methods for this object.\\nl.',\n",
       "  '# Use tab button with curson right after \".\" to see all the methods for this object.\\nl.clear()',\n",
       "  '# Use tab button with curson right after \".\" to see all the methods for this object.\\nl.clear()\\nl',\n",
       "  '# Use tab button with curson right after \".\" to see all the methods for this object.\\nl',\n",
       "  '# Append modifies the object.\\nl.append(5)\\nl',\n",
       "  '# Count returns value - number of occurences.\\nl.count(2)',\n",
       "  '# Count returns value - number of occurences.\\nl.count(3)',\n",
       "  \"def name_of_function(arg1, arg2):\\n    '''\\n    This is where the function's doc-string goes.\\n    '''\\n    pass\",\n",
       "  'help(name_of_function)',\n",
       "  'lambda x: x % 2 == 0 # even',\n",
       "  'lambda s: s[0] # first character',\n",
       "  'lambda s: s[::-1] # reverse',\n",
       "  'lambda x, y: x + y',\n",
       "  'x = 25\\n\\ndef printer():\\n    x = 50\\n    return x\\n\\nprint(x)\\nprinter()\\nprint(x)',\n",
       "  'x = 25\\n\\ndef printer():\\n    x = 50\\n    return x\\n\\nprint(x)\\nprint(printer())\\nprint(x)',\n",
       "  '# x is local here\\nx',\n",
       "  '# x is local here\\nf = lambda x: x**2',\n",
       "  'name = \"This is a global name.\"\\n\\ndef greet():\\n    # Enclosing function\\n    name = \"Sammy\"\\n    \\n    def hello():\\n        print(\"Hello\", name)\\n        \\n    hello()\\n    \\ngreet()',\n",
       "  'print(name)',\n",
       "  'len',\n",
       "  'x = 50\\n\\ndef func(x):\\n    print(\"x is\", x)\\n    x = 2\\n    print(\"Changed local x to\", x)\\n    \\nfunc()\\nprint(\"x is still\", x)',\n",
       "  'x = 50\\n\\ndef func(x):\\n    print(\"x is\", x)\\n    x = 2\\n    print(\"Changed local x to\", x)\\n    \\nfunc(x)\\nprint(\"x is still\", x)',\n",
       "  'x = 50\\n\\ndef func():\\n    global x\\n    print(\"This function is now using the global x!\")\\n    print(\"Because of global x is:\", x)\\n    x = 2\\n    print(\"Ran func(), changed global x to\", x)\\n\\nprint(\"Before calling func(), x is: \", x)\\nfunc()\\nprint(\"Value of x (outside of func()) is:\", x)',\n",
       "  'global x, y, z',\n",
       "  'locals()',\n",
       "  'globals()',\n",
       "  'globals()'],\n",
       " 'Out': {4: [5],\n",
       "  5: [5],\n",
       "  6: [5],\n",
       "  7: 0,\n",
       "  8: 0,\n",
       "  11: <function __main__.<lambda>>,\n",
       "  12: <function __main__.<lambda>>,\n",
       "  13: <function __main__.<lambda>>,\n",
       "  14: <function __main__.<lambda>>,\n",
       "  17: 25,\n",
       "  21: <function len>,\n",
       "  26: {...},\n",
       "  27: {...}},\n",
       " '_': {...},\n",
       " '_11': <function __main__.<lambda>>,\n",
       " '_12': <function __main__.<lambda>>,\n",
       " '_13': <function __main__.<lambda>>,\n",
       " '_14': <function __main__.<lambda>>,\n",
       " '_17': 25,\n",
       " '_21': <function len>,\n",
       " '_26': {...},\n",
       " '_27': {...},\n",
       " '_4': [5],\n",
       " '_5': [5],\n",
       " '_6': [5],\n",
       " '_7': 0,\n",
       " '_8': 0,\n",
       " '__': {...},\n",
       " '___': <function len>,\n",
       " '__builtin__': <module 'builtins' (built-in)>,\n",
       " '__builtins__': <module 'builtins' (built-in)>,\n",
       " '__doc__': 'Automatically created module for IPython interactive environment',\n",
       " '__loader__': None,\n",
       " '__name__': '__main__',\n",
       " '__package__': None,\n",
       " '__spec__': None,\n",
       " '_dh': ['/Users/michalsznajder/Dropbox/github/learning_python/udemy_complete_python_bootcamp'],\n",
       " '_i': 'globals()',\n",
       " '_i1': 'l = [1, 2, 3, 4]',\n",
       " '_i10': 'help(name_of_function)',\n",
       " '_i11': 'lambda x: x % 2 == 0 # even',\n",
       " '_i12': 'lambda s: s[0] # first character',\n",
       " '_i13': 'lambda s: s[::-1] # reverse',\n",
       " '_i14': 'lambda x, y: x + y',\n",
       " '_i15': 'x = 25\\n\\ndef printer():\\n    x = 50\\n    return x\\n\\nprint(x)\\nprinter()\\nprint(x)',\n",
       " '_i16': 'x = 25\\n\\ndef printer():\\n    x = 50\\n    return x\\n\\nprint(x)\\nprint(printer())\\nprint(x)',\n",
       " '_i17': '# x is local here\\nx',\n",
       " '_i18': '# x is local here\\nf = lambda x: x**2',\n",
       " '_i19': 'name = \"This is a global name.\"\\n\\ndef greet():\\n    # Enclosing function\\n    name = \"Sammy\"\\n    \\n    def hello():\\n        print(\"Hello\", name)\\n        \\n    hello()\\n    \\ngreet()',\n",
       " '_i2': '# Use tab button with curson right after \".\" to see all the methods for this object.\\nl.',\n",
       " '_i20': 'print(name)',\n",
       " '_i21': 'len',\n",
       " '_i22': 'x = 50\\n\\ndef func(x):\\n    print(\"x is\", x)\\n    x = 2\\n    print(\"Changed local x to\", x)\\n    \\nfunc()\\nprint(\"x is still\", x)',\n",
       " '_i23': 'x = 50\\n\\ndef func(x):\\n    print(\"x is\", x)\\n    x = 2\\n    print(\"Changed local x to\", x)\\n    \\nfunc(x)\\nprint(\"x is still\", x)',\n",
       " '_i24': 'x = 50\\n\\ndef func():\\n    global x\\n    print(\"This function is now using the global x!\")\\n    print(\"Because of global x is:\", x)\\n    x = 2\\n    print(\"Ran func(), changed global x to\", x)\\n\\nprint(\"Before calling func(), x is: \", x)\\nfunc()\\nprint(\"Value of x (outside of func()) is:\", x)',\n",
       " '_i25': 'global x, y, z',\n",
       " '_i26': 'locals()',\n",
       " '_i27': 'globals()',\n",
       " '_i28': 'globals()',\n",
       " '_i3': '# Use tab button with curson right after \".\" to see all the methods for this object.\\nl.clear()',\n",
       " '_i4': '# Use tab button with curson right after \".\" to see all the methods for this object.\\nl.clear()\\nl',\n",
       " '_i5': '# Use tab button with curson right after \".\" to see all the methods for this object.\\nl',\n",
       " '_i6': '# Append modifies the object.\\nl.append(5)\\nl',\n",
       " '_i7': '# Count returns value - number of occurences.\\nl.count(2)',\n",
       " '_i8': '# Count returns value - number of occurences.\\nl.count(3)',\n",
       " '_i9': \"def name_of_function(arg1, arg2):\\n    '''\\n    This is where the function's doc-string goes.\\n    '''\\n    pass\",\n",
       " '_ih': ['',\n",
       "  'l = [1, 2, 3, 4]',\n",
       "  '# Use tab button with curson right after \".\" to see all the methods for this object.\\nl.',\n",
       "  '# Use tab button with curson right after \".\" to see all the methods for this object.\\nl.clear()',\n",
       "  '# Use tab button with curson right after \".\" to see all the methods for this object.\\nl.clear()\\nl',\n",
       "  '# Use tab button with curson right after \".\" to see all the methods for this object.\\nl',\n",
       "  '# Append modifies the object.\\nl.append(5)\\nl',\n",
       "  '# Count returns value - number of occurences.\\nl.count(2)',\n",
       "  '# Count returns value - number of occurences.\\nl.count(3)',\n",
       "  \"def name_of_function(arg1, arg2):\\n    '''\\n    This is where the function's doc-string goes.\\n    '''\\n    pass\",\n",
       "  'help(name_of_function)',\n",
       "  'lambda x: x % 2 == 0 # even',\n",
       "  'lambda s: s[0] # first character',\n",
       "  'lambda s: s[::-1] # reverse',\n",
       "  'lambda x, y: x + y',\n",
       "  'x = 25\\n\\ndef printer():\\n    x = 50\\n    return x\\n\\nprint(x)\\nprinter()\\nprint(x)',\n",
       "  'x = 25\\n\\ndef printer():\\n    x = 50\\n    return x\\n\\nprint(x)\\nprint(printer())\\nprint(x)',\n",
       "  '# x is local here\\nx',\n",
       "  '# x is local here\\nf = lambda x: x**2',\n",
       "  'name = \"This is a global name.\"\\n\\ndef greet():\\n    # Enclosing function\\n    name = \"Sammy\"\\n    \\n    def hello():\\n        print(\"Hello\", name)\\n        \\n    hello()\\n    \\ngreet()',\n",
       "  'print(name)',\n",
       "  'len',\n",
       "  'x = 50\\n\\ndef func(x):\\n    print(\"x is\", x)\\n    x = 2\\n    print(\"Changed local x to\", x)\\n    \\nfunc()\\nprint(\"x is still\", x)',\n",
       "  'x = 50\\n\\ndef func(x):\\n    print(\"x is\", x)\\n    x = 2\\n    print(\"Changed local x to\", x)\\n    \\nfunc(x)\\nprint(\"x is still\", x)',\n",
       "  'x = 50\\n\\ndef func():\\n    global x\\n    print(\"This function is now using the global x!\")\\n    print(\"Because of global x is:\", x)\\n    x = 2\\n    print(\"Ran func(), changed global x to\", x)\\n\\nprint(\"Before calling func(), x is: \", x)\\nfunc()\\nprint(\"Value of x (outside of func()) is:\", x)',\n",
       "  'global x, y, z',\n",
       "  'locals()',\n",
       "  'globals()',\n",
       "  'globals()'],\n",
       " '_ii': 'locals()',\n",
       " '_iii': 'global x, y, z',\n",
       " '_oh': {4: [5],\n",
       "  5: [5],\n",
       "  6: [5],\n",
       "  7: 0,\n",
       "  8: 0,\n",
       "  11: <function __main__.<lambda>>,\n",
       "  12: <function __main__.<lambda>>,\n",
       "  13: <function __main__.<lambda>>,\n",
       "  14: <function __main__.<lambda>>,\n",
       "  17: 25,\n",
       "  21: <function len>,\n",
       "  26: {...},\n",
       "  27: {...}},\n",
       " '_sh': <module 'IPython.core.shadowns' from '//anaconda/lib/python3.6/site-packages/IPython/core/shadowns.py'>,\n",
       " 'exit': <IPython.core.autocall.ZMQExitAutocall at 0x10a0a42e8>,\n",
       " 'f': <function __main__.<lambda>>,\n",
       " 'func': <function __main__.func>,\n",
       " 'get_ipython': <bound method InteractiveShell.get_ipython of <ipykernel.zmqshell.ZMQInteractiveShell object at 0x10a05d3c8>>,\n",
       " 'greet': <function __main__.greet>,\n",
       " 'l': [5],\n",
       " 'name': 'This is a global name.',\n",
       " 'name_of_function': <function __main__.name_of_function>,\n",
       " 'printer': <function __main__.printer>,\n",
       " 'quit': <IPython.core.autocall.ZMQExitAutocall at 0x10a0a42e8>,\n",
       " 'x': 2}"
      ]
     },
     "execution_count": 28,
     "metadata": {},
     "output_type": "execute_result"
    }
   ],
   "source": [
    "globals()"
   ]
  },
  {
   "cell_type": "code",
   "execution_count": null,
   "metadata": {
    "collapsed": true
   },
   "outputs": [],
   "source": []
  }
 ],
 "metadata": {
  "kernelspec": {
   "display_name": "Python 3",
   "language": "python",
   "name": "python3"
  },
  "language_info": {
   "codemirror_mode": {
    "name": "ipython",
    "version": 3
   },
   "file_extension": ".py",
   "mimetype": "text/x-python",
   "name": "python",
   "nbconvert_exporter": "python",
   "pygments_lexer": "ipython3",
   "version": "3.6.0"
  }
 },
 "nbformat": 4,
 "nbformat_minor": 2
}
