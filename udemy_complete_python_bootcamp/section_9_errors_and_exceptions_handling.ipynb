{
 "cells": [
  {
   "cell_type": "code",
   "execution_count": 1,
   "metadata": {
    "collapsed": false
   },
   "outputs": [
    {
     "ename": "TypeError",
     "evalue": "unsupported operand type(s) for +: 'int' and 'str'",
     "output_type": "error",
     "traceback": [
      "\u001b[0;31m---------------------------------------------------------------------------\u001b[0m",
      "\u001b[0;31mTypeError\u001b[0m                                 Traceback (most recent call last)",
      "\u001b[0;32m<ipython-input-1-3a56c172ee29>\u001b[0m in \u001b[0;36m<module>\u001b[0;34m()\u001b[0m\n\u001b[0;32m----> 1\u001b[0;31m \u001b[0;36m2\u001b[0m \u001b[0;34m+\u001b[0m \u001b[0;34m\"s\"\u001b[0m\u001b[0;34m\u001b[0m\u001b[0m\n\u001b[0m",
      "\u001b[0;31mTypeError\u001b[0m: unsupported operand type(s) for +: 'int' and 'str'"
     ]
    }
   ],
   "source": [
    "2 + \"s\""
   ]
  },
  {
   "cell_type": "markdown",
   "metadata": {},
   "source": [
    "Error with specified type."
   ]
  },
  {
   "cell_type": "code",
   "execution_count": 2,
   "metadata": {
    "collapsed": false
   },
   "outputs": [
    {
     "name": "stdout",
     "output_type": "stream",
     "text": [
      "There was a type error!\n",
      "Finally this was printed.\n"
     ]
    }
   ],
   "source": [
    "try:\n",
    "    2 + \"s\"\n",
    "except TypeError:\n",
    "    print(\"There was a type error!\")\n",
    "finally:\n",
    "    print(\"Finally this was printed.\")"
   ]
  },
  {
   "cell_type": "markdown",
   "metadata": {},
   "source": [
    "Error with not specified type."
   ]
  },
  {
   "cell_type": "code",
   "execution_count": 3,
   "metadata": {
    "collapsed": false
   },
   "outputs": [
    {
     "name": "stdout",
     "output_type": "stream",
     "text": [
      "There was a type error!\n",
      "Finally this was printed.\n"
     ]
    }
   ],
   "source": [
    "try:\n",
    "    2 + \"s\"\n",
    "except:\n",
    "    print(\"There was a type error!\")\n",
    "finally:\n",
    "    print(\"Finally this was printed.\")"
   ]
  },
  {
   "cell_type": "markdown",
   "metadata": {},
   "source": [
    "Execution with and without error."
   ]
  },
  {
   "cell_type": "code",
   "execution_count": 5,
   "metadata": {
    "collapsed": false
   },
   "outputs": [
    {
     "name": "stdout",
     "output_type": "stream",
     "text": [
      "File write was a success.\n"
     ]
    }
   ],
   "source": [
    "try:\n",
    "    f = open(\"testfile\", \"w\")\n",
    "    f.write(\"Test\")\n",
    "except:\n",
    "    print(\"Error in writing to the file.\")\n",
    "else:\n",
    "    print(\"File write was a success.\")"
   ]
  },
  {
   "cell_type": "code",
   "execution_count": 6,
   "metadata": {
    "collapsed": false
   },
   "outputs": [
    {
     "name": "stdout",
     "output_type": "stream",
     "text": [
      "Error in writing to the file.\n"
     ]
    }
   ],
   "source": [
    "try:\n",
    "    f = open(\"testfile2\", \"r\")\n",
    "    f.write(\"Test\")\n",
    "except:\n",
    "    print(\"Error in writing to the file.\")\n",
    "else:\n",
    "    print(\"File write was a success.\")"
   ]
  },
  {
   "cell_type": "markdown",
   "metadata": {},
   "source": [
    "Do something regardless of the exception."
   ]
  },
  {
   "cell_type": "code",
   "execution_count": 8,
   "metadata": {
    "collapsed": false
   },
   "outputs": [
    {
     "name": "stdout",
     "output_type": "stream",
     "text": [
      "There was an error!\n",
      "Always execute finally code block!\n"
     ]
    }
   ],
   "source": [
    "try:\n",
    "    f = open(\"testfile2\", \"r\")\n",
    "    f.write(\"Test\")\n",
    "except:\n",
    "    print(\"There was an error!\")\n",
    "finally:\n",
    "    print(\"Always execute finally code block!\")"
   ]
  },
  {
   "cell_type": "markdown",
   "metadata": {},
   "source": [
    "Ask for input."
   ]
  },
  {
   "cell_type": "code",
   "execution_count": 15,
   "metadata": {
    "collapsed": false
   },
   "outputs": [
    {
     "name": "stdout",
     "output_type": "stream",
     "text": [
      "Please enter an integer: 1\n",
      "Finally block executed.\n",
      "1\n"
     ]
    }
   ],
   "source": [
    "def ask_int():\n",
    "    try:\n",
    "        val = int(input(\"Please enter an integer: \"))\n",
    "    except:\n",
    "        print(\"Looks like you did not enter an integer.\")\n",
    "        val = int(input(\"Try again.\"))\n",
    "    finally:\n",
    "        print(\"Finally block executed.\")\n",
    "    print(val)\n",
    "      \n",
    "        \n",
    "ask_int()"
   ]
  },
  {
   "cell_type": "markdown",
   "metadata": {
    "collapsed": true
   },
   "source": [
    "Ask for correct continuously."
   ]
  },
  {
   "cell_type": "code",
   "execution_count": 18,
   "metadata": {
    "collapsed": false
   },
   "outputs": [
    {
     "name": "stdout",
     "output_type": "stream",
     "text": [
      "d\n",
      "Looks like you didn't enter an integer!\n",
      "Finally block executed.\n",
      "d\n",
      "Looks like you didn't enter an integer!\n",
      "Finally block executed.\n",
      "d\n",
      "Looks like you didn't enter an integer!\n",
      "Finally block executed.\n",
      "d\n",
      "Looks like you didn't enter an integer!\n",
      "Finally block executed.\n",
      "2\n",
      "Correct!\n",
      "Finally block executed.\n",
      "2\n"
     ]
    }
   ],
   "source": [
    "def ask_int():\n",
    "    while True:\n",
    "        try:\n",
    "            val = int(input())\n",
    "        except:\n",
    "            print(\"Looks like you didn't enter an integer!\")\n",
    "            continue\n",
    "        else:\n",
    "            print(\"Correct!\")\n",
    "            break\n",
    "        finally:\n",
    "            print(\"Finally block executed.\")\n",
    "    print(val)\n",
    "                  \n",
    "\n",
    "ask_int()"
   ]
  },
  {
   "cell_type": "code",
   "execution_count": null,
   "metadata": {
    "collapsed": true
   },
   "outputs": [],
   "source": []
  },
  {
   "cell_type": "code",
   "execution_count": null,
   "metadata": {
    "collapsed": true
   },
   "outputs": [],
   "source": []
  },
  {
   "cell_type": "code",
   "execution_count": null,
   "metadata": {
    "collapsed": true
   },
   "outputs": [],
   "source": []
  }
 ],
 "metadata": {
  "kernelspec": {
   "display_name": "Python 3",
   "language": "python",
   "name": "python3"
  },
  "language_info": {
   "codemirror_mode": {
    "name": "ipython",
    "version": 3
   },
   "file_extension": ".py",
   "mimetype": "text/x-python",
   "name": "python",
   "nbconvert_exporter": "python",
   "pygments_lexer": "ipython3",
   "version": "3.6.0"
  }
 },
 "nbformat": 4,
 "nbformat_minor": 2
}
