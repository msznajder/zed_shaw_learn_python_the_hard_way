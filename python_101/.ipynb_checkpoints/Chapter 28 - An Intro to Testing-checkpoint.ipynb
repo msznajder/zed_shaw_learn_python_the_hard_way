{
 "cells": [
  {
   "cell_type": "markdown",
   "metadata": {},
   "source": [
    "# Chapter 28 - An Intro to Testing\n",
    "\n",
    "Python includes a couple of built-in modules for testing your code. They two methods are called doctest and unittest."
   ]
  },
  {
   "cell_type": "markdown",
   "metadata": {},
   "source": [
    "## 28.1 Testing with doctest\n",
    "\n",
    "The doctest module will search for pieces of text in your code that resemble interactive Python sessions.\n",
    "\n",
    "It will then execute those sessions to verify that they work exactly as written.\n",
    "\n",
    "This means that if you wrote an example in a docstring that showed the output with a trailing space or tab, then the actual output of the function has to have that trailing whitespace too.\n",
    "\n",
    "Most of the time, the\n",
    "docstring is where you will want to put your tests."
   ]
  },
  {
   "cell_type": "markdown",
   "metadata": {},
   "source": [
    "### 28.1.1 Running doctest via the Terminal\n",
    "\n",
    "We will start by creating a really simple function that will double whatever is given to it. We will include a couple of tests inside the function’s docstring."
   ]
  },
  {
   "cell_type": "code",
   "execution_count": 3,
   "metadata": {
    "collapsed": true
   },
   "outputs": [],
   "source": [
    "# dtest.py\n",
    "\n",
    "def double(a):\n",
    "    \"\"\"\n",
    "    >>> double(4)\n",
    "    8\n",
    "    >>> double(9)\n",
    "    18\n",
    "    \"\"\"\n",
    "    return a * 2"
   ]
  },
  {
   "cell_type": "markdown",
   "metadata": {},
   "source": [
    "Now we just need to run this code in doctest. Open up a terminal (or command line) and change directories to the folder that contains your script.\n",
    "\n",
    "```\n",
    "python -m doctest dtest1.py\n",
    "```\n",
    "\n",
    "That ran the test and nothing printed out to the screen. When you don’t see anything printed, that means that all the tests passed successfully.\n",
    "\n",
    "```\n",
    "python -m doctest -v dtest1.py\n",
    "\n",
    "Trying:\n",
    "    double(4)\n",
    "Expecting:\n",
    "    8\n",
    "ok\n",
    "Trying:\n",
    "    double(9)\n",
    "Expecting:\n",
    "    18\n",
    "ok\n",
    "1 items had no tests:\n",
    "    dtest\n",
    "1 items passed all tests:\n",
    "   2 tests in dtest.double\n",
    "2 tests in 2 items.\n",
    "2 passed and 0 failed.\n",
    "Test passed.\n",
    "```\n",
    "The “-v” means that we want verbose output, which is exactly what we received. Open up the code again and add a space after the “18” in the docstring.\n",
    "\n",
    "Also beware of putting dictionaries as output in your docstring examples. Dictionaries can be in any order, so the likelihood of it matching your actual output isn’t very good."
   ]
  },
  {
   "cell_type": "markdown",
   "metadata": {},
   "source": [
    "### 28.1.2 Running doctest Inside a Module\n",
    "\n",
    "Let’s modify the example slightly so that we import the doctest module and use its testmod function."
   ]
  },
  {
   "cell_type": "code",
   "execution_count": 7,
   "metadata": {
    "collapsed": false
   },
   "outputs": [
    {
     "name": "stdout",
     "output_type": "stream",
     "text": [
      "Trying:\n",
      "    double(4)\n",
      "Expecting:\n",
      "    8\n",
      "ok\n",
      "Trying:\n",
      "    double(9)\n",
      "Expecting:\n",
      "    18\n",
      "ok\n",
      "1 items had no tests:\n",
      "    __main__\n",
      "1 items passed all tests:\n",
      "   2 tests in __main__.double\n",
      "2 tests in 2 items.\n",
      "2 passed and 0 failed.\n",
      "Test passed.\n"
     ]
    }
   ],
   "source": [
    "# dtest2.py\n",
    "\n",
    "def double(a):\n",
    "    \"\"\"\n",
    "    >>> double(4)\n",
    "    8\n",
    "    >>> double(9)\n",
    "    18\n",
    "    \"\"\"\n",
    "    return a * 2\n",
    "\n",
    "if __name__ == \"__main__\":\n",
    "    import doctest\n",
    "    doctest.testmod(verbose=True)"
   ]
  },
  {
   "cell_type": "markdown",
   "metadata": {},
   "source": [
    "Here we import doctest and call doctest.testmod. We pass it the keyword argument of verbose=True so that we can see some output."
   ]
  },
  {
   "cell_type": "markdown",
   "metadata": {},
   "source": [
    "### 28.1.3 Running doctest From a Separate File\n",
    "\n",
    "The doctest module also supports putting the testing into a separate file. This allows us to separate the tests from the code. Let’s strip the tests from the previous example and put them into a text file named tests.txt:\n",
    "\n",
    "```\n",
    "The following are tests for dtest2.py\n",
    "\n",
    ">>> from dtest2 import double\n",
    ">>> double(4)\n",
    "8\n",
    ">>> double(9)\n",
    "18\n",
    "```\n",
    "Let’s run this test file on the command line:\n",
    "```\n",
    "python -m doctest -v tests.txt\n",
    "```\n",
    "```\n",
    "Trying:\n",
    "    from dtest2 import double\n",
    "Expecting nothing\n",
    "ok\n",
    "Trying:\n",
    "    double(4)\n",
    "Expecting:\n",
    "    8\n",
    "ok\n",
    "Trying:\n",
    "    double(9)\n",
    "Expecting:\n",
    "    18\n",
    "ok\n",
    "1 items passed all tests:\n",
    "   3 tests in tests.txt\n",
    "3 tests in 1 items.\n",
    "3 passed and 0 failed.\n",
    "Test passed.\n",
    "```"
   ]
  },
  {
   "cell_type": "markdown",
   "metadata": {},
   "source": [
    "You will notice that the syntax for calling doctest with a text file is the same as calling it with a Python file. The results are the same as well. In this case, there are three tests instead of two because we’re also importing a module. \n",
    "\n",
    "You can also run the tests that are in a text file inside the Python interpreter."
   ]
  },
  {
   "cell_type": "markdown",
   "metadata": {},
   "source": [
    "```\n",
    "import doctest\n",
    "doctest.testfile(\"tests.txt\")\n",
    "```\n",
    "```\n",
    "TestResults(failed=0, attempted=3)\n",
    "```"
   ]
  },
  {
   "cell_type": "markdown",
   "metadata": {},
   "source": [
    "Here we just import doctest and call its testfile method. Note that you need to also pass the filename or path to the testfile function. \n",
    "\n",
    "It will return a TestResults object that contains how many tests were\n",
    "attempted and how many failed."
   ]
  },
  {
   "cell_type": "markdown",
   "metadata": {},
   "source": [
    "## 28.2 Test Driven Development with unittest\n",
    "\n",
    "The idea behind Test Driven Development is that you write the tests BEFORE you write the actual code.\n",
    "\n",
    "We will iterate back and forth between writing tests and code until we’re done."
   ]
  },
  {
   "cell_type": "markdown",
   "metadata": {},
   "source": [
    "### 28.2.1 The First Test\n",
    "\n",
    "Our first test will be to test our game object and see if it can calculate the correct total if we roll eleven times and only knock over one pin each time. This should give us a total of eleven."
   ]
  },
  {
   "cell_type": "code",
   "execution_count": 16,
   "metadata": {
    "collapsed": true
   },
   "outputs": [],
   "source": [
    "import unittest\n",
    "\n",
    "class TestBowling(unittest.TestCase):\n",
    "    \"\"\"\"\"\"\n",
    "    \n",
    "    def test_all_ones(self):\n",
    "        \"\"\"Constructor\"\"\"\n",
    "        game = Game()\n",
    "        game.roll(11, 1)\n",
    "        self.assertEqual(game.score, 11)\n",
    "        "
   ]
  },
  {
   "cell_type": "markdown",
   "metadata": {},
   "source": [
    "This is a pretty simple test. We create a game object and then call its roll method eleven times with a score of one each time. Then we use the assertEqual method from the unittest module to test if the game object’s score is correct (i.e. eleven). \n",
    "\n",
    "The next step is to write the simplest code you can think of to make the test pass."
   ]
  },
  {
   "cell_type": "code",
   "execution_count": 18,
   "metadata": {
    "collapsed": true
   },
   "outputs": [],
   "source": [
    "class Game:\n",
    "    \"\"\"\"\"\"\n",
    "    \n",
    "    def __init__(self):\n",
    "        \"\"\"Constructor\"\"\"\n",
    "        self.score = 0\n",
    "        \n",
    "    def roll(self, num_of_rolls, pins):\n",
    "        \"\"\"\"\"\"\n",
    "        for roll in num_of_rolls:\n",
    "            self.score += pins\n",
    "                     "
   ]
  },
  {
   "cell_type": "markdown",
   "metadata": {},
   "source": [
    "For simplicity’s sake, you can just copy and paste that into the same file with your test. We’ll break them into two files for our next test.\n",
    "\n",
    "Let’s run the test and see if it passes! The easiest way to run the tests is to add the following two lines of code to the bottom of the file."
   ]
  },
  {
   "cell_type": "code",
   "execution_count": 20,
   "metadata": {
    "collapsed": false
   },
   "outputs": [
    {
     "name": "stderr",
     "output_type": "stream",
     "text": [
      "E\n",
      "======================================================================\n",
      "ERROR: /Users/michalsznajder/Library/Jupyter/runtime/kernel-764b5c03-f65e-4138-9a0d-81aa6677a0aa (unittest.loader._FailedTest)\n",
      "----------------------------------------------------------------------\n",
      "AttributeError: module '__main__' has no attribute '/Users/michalsznajder/Library/Jupyter/runtime/kernel-764b5c03-f65e-4138-9a0d-81aa6677a0aa'\n",
      "\n",
      "----------------------------------------------------------------------\n",
      "Ran 1 test in 0.001s\n",
      "\n",
      "FAILED (errors=1)\n"
     ]
    },
    {
     "ename": "SystemExit",
     "evalue": "True",
     "output_type": "error",
     "traceback": [
      "An exception has occurred, use %tb to see the full traceback.\n",
      "\u001b[0;31mSystemExit\u001b[0m\u001b[0;31m:\u001b[0m True\n"
     ]
    },
    {
     "name": "stderr",
     "output_type": "stream",
     "text": [
      "//anaconda/lib/python3.6/site-packages/IPython/core/interactiveshell.py:2889: UserWarning: To exit: use 'exit', 'quit', or Ctrl-D.\n",
      "  warn(\"To exit: use 'exit', 'quit', or Ctrl-D.\", stacklevel=1)\n"
     ]
    }
   ],
   "source": [
    "if __name__ == \"__main__\":\n",
    "    unittest.main()"
   ]
  },
  {
   "cell_type": "markdown",
   "metadata": {},
   "source": [
    "```\n",
    "E\n",
    "2 ----------------------------------------------------------------------\n",
    "3 ERROR: test_all_ones (__main__.TestBowling)\n",
    "4 Constructor\n",
    "5 ----------------------------------------------------------------------\n",
    "6 Traceback (most recent call last):\n",
    "7 File \"C:\\Users\\Mike\\Documents\\Scripts\\Testing\\bowling\\test_one.py\",\n",
    "8 line 27, in test_all_ones\n",
    "9 game.roll(11, 1)\n",
    "10 File \"C:\\Users\\Mike\\Documents\\Scripts\\Testing\\bowling\\test_one.py\",\n",
    "11 line 15, in roll\n",
    "12 for roll in numOfRolls:\n",
    "13 TypeError: 'int' object is not iterable\n",
    "14\n",
    "15 ----------------------------------------------------------------------\n",
    "16 Ran 1 test in 0.001s\n",
    "17\n",
    "18 FAILED (errors=1)\n",
    "```"
   ]
  },
  {
   "cell_type": "markdown",
   "metadata": {},
   "source": [
    "We’ve got a mistake in there somewhere. It looks like we’re passing an Integer and then trying to iterate over it. That doesn’t work! We need to change our Game object’s roll method to the following to make it work."
   ]
  },
  {
   "cell_type": "code",
   "execution_count": 26,
   "metadata": {
    "collapsed": true
   },
   "outputs": [],
   "source": [
    "# game.py\n",
    "\n",
    "class Game:\n",
    "    \"\"\"\"\"\"\n",
    "    \n",
    "    def __init__(self):\n",
    "        \"\"\"Constructor\"\"\"\n",
    "        self.score = 0\n",
    "        \n",
    "    def roll(self, num_of_rolls, pins):\n",
    "        \"\"\"\"\"\"\n",
    "        for roll in range(num_of_rolls):\n",
    "            self.score += pins\n",
    "                     "
   ]
  },
  {
   "cell_type": "code",
   "execution_count": 22,
   "metadata": {
    "collapsed": false
   },
   "outputs": [
    {
     "name": "stderr",
     "output_type": "stream",
     "text": [
      "E\n",
      "======================================================================\n",
      "ERROR: /Users/michalsznajder/Library/Jupyter/runtime/kernel-764b5c03-f65e-4138-9a0d-81aa6677a0aa (unittest.loader._FailedTest)\n",
      "----------------------------------------------------------------------\n",
      "AttributeError: module '__main__' has no attribute '/Users/michalsznajder/Library/Jupyter/runtime/kernel-764b5c03-f65e-4138-9a0d-81aa6677a0aa'\n",
      "\n",
      "----------------------------------------------------------------------\n",
      "Ran 1 test in 0.002s\n",
      "\n",
      "FAILED (errors=1)\n"
     ]
    },
    {
     "ename": "SystemExit",
     "evalue": "True",
     "output_type": "error",
     "traceback": [
      "An exception has occurred, use %tb to see the full traceback.\n",
      "\u001b[0;31mSystemExit\u001b[0m\u001b[0;31m:\u001b[0m True\n"
     ]
    },
    {
     "name": "stderr",
     "output_type": "stream",
     "text": [
      "//anaconda/lib/python3.6/site-packages/IPython/core/interactiveshell.py:2889: UserWarning: To exit: use 'exit', 'quit', or Ctrl-D.\n",
      "  warn(\"To exit: use 'exit', 'quit', or Ctrl-D.\", stacklevel=1)\n"
     ]
    }
   ],
   "source": [
    "if __name__ == \"__main__\":\n",
    "    unittest.main()"
   ]
  },
  {
   "cell_type": "markdown",
   "metadata": {},
   "source": [
    "```\n",
    "1 .\n",
    "2 ----------------------------------------------------------------------\n",
    "3 Ran 1 test in 0.000s\n",
    "4\n",
    "5 OK\n",
    "```"
   ]
  },
  {
   "cell_type": "markdown",
   "metadata": {},
   "source": [
    "Note the “.” because it’s important. That little dot means that one test has run and that it passed. The “OK” at the end clues you into that fact as well. If you study the original output, you’ll notice it leads off with an “E” for error and there’s no dot!"
   ]
  },
  {
   "cell_type": "markdown",
   "metadata": {},
   "source": [
    "### 28.2.2 The Second Test\n",
    "\n",
    "For the second test, we’ll test what happens when we get a strike. We’ll need to change the first test to use a list for the number of pins knocked down in each frame though, so we’ll look at both tests here. You’ll probably find this to be a fairly common process where you may need to edit a couple of tests due to fundamental changes in what you’re testing for. Normally this will only happen at the beginning of your coding and you will get better later on such that you shouldn’t need to do this. Since this is my first time doing this, I wasn’t thinking far enough ahead."
   ]
  },
  {
   "cell_type": "code",
   "execution_count": 24,
   "metadata": {
    "collapsed": false
   },
   "outputs": [
    {
     "name": "stderr",
     "output_type": "stream",
     "text": [
      "E\n",
      "======================================================================\n",
      "ERROR: /Users/michalsznajder/Library/Jupyter/runtime/kernel-764b5c03-f65e-4138-9a0d-81aa6677a0aa (unittest.loader._FailedTest)\n",
      "----------------------------------------------------------------------\n",
      "AttributeError: module '__main__' has no attribute '/Users/michalsznajder/Library/Jupyter/runtime/kernel-764b5c03-f65e-4138-9a0d-81aa6677a0aa'\n",
      "\n",
      "----------------------------------------------------------------------\n",
      "Ran 1 test in 0.001s\n",
      "\n",
      "FAILED (errors=1)\n"
     ]
    },
    {
     "ename": "SystemExit",
     "evalue": "True",
     "output_type": "error",
     "traceback": [
      "An exception has occurred, use %tb to see the full traceback.\n",
      "\u001b[0;31mSystemExit\u001b[0m\u001b[0;31m:\u001b[0m True\n"
     ]
    },
    {
     "name": "stderr",
     "output_type": "stream",
     "text": [
      "//anaconda/lib/python3.6/site-packages/IPython/core/interactiveshell.py:2889: UserWarning: To exit: use 'exit', 'quit', or Ctrl-D.\n",
      "  warn(\"To exit: use 'exit', 'quit', or Ctrl-D.\", stacklevel=1)\n"
     ]
    }
   ],
   "source": [
    "# from game import Game\n",
    "import unittest\n",
    "\n",
    "class TestBowling(unittest.TestCase):\n",
    "    \"\"\"\"\"\"\n",
    "    \n",
    "    def test_all_ones(self):\n",
    "        \"\"\"Constructor\"\"\"\n",
    "        game = Game()\n",
    "        pins = [1 for i in range(11)]\n",
    "        game.roll(11, pins)\n",
    "        self.assertEqual(game.score, 11)\n",
    "        \n",
    "    def test_strike(self):\n",
    "        \"\"\"\n",
    "        A strike is 10 + the value of the next two rolls. So in this case \n",
    "        the first frame will be 10+5+4 or 19 and the second will be 5+4.\n",
    "        The total score would be 19+9 or 28.\n",
    "        \"\"\"\n",
    "        game = Game()\n",
    "        game.roll(11, [10, 5, 4])\n",
    "        self.assertEqual(game.score, 28)\n",
    "        \n",
    "if __name__ == \"__main__\":\n",
    "    unittest.main()"
   ]
  },
  {
   "cell_type": "markdown",
   "metadata": {},
   "source": [
    "Let’s take a look at our first test and how it changed. Yes, we’re breaking the rules here a bit when it comes to TDD. Feel free to NOT change the first test and see what breaks. In the test_all_ones\n",
    "method, we set the pins variable to equal a list comprehension which created a list of eleven ones. Then we passed that to our game object’s roll method along with the number of rolls.\n",
    "\n",
    "In the second test, we roll a strike in our first roll, a five in our second and a four in our third. Note that we went a head and told it that we were passing in eleven rolls and yet we only pass in three.\n",
    "This means that we need to set the other eight rolls to zeros. Next, we use our trusty assertEqual method to check if we get the right total. Finally, note that we’re now importing the Game class rather than keeping it with the tests. Now we need to implement the code necessary to pass these two tests."
   ]
  },
  {
   "cell_type": "code",
   "execution_count": 28,
   "metadata": {
    "collapsed": true
   },
   "outputs": [],
   "source": [
    "# game.py\n",
    "\n",
    "class Game:\n",
    "    \"\"\"\"\"\"\n",
    "    \n",
    "    def __init__(self):\n",
    "        \"\"\"Constructor\"\"\"\n",
    "        self.score = 0\n",
    "        self.pins = [0 for i in range(11)]\n",
    "        \n",
    "    def roll(self, num_of_rolls, pins):\n",
    "        \"\"\"\"\"\"\n",
    "        x = 0\n",
    "        for pin in pins:\n",
    "            self.pins[x] == pin\n",
    "            x += 1\n",
    "        x = 0\n",
    "        for roll in range(num_of_rolls):\n",
    "            if self.pins[x] == 10:\n",
    "                self.score = self.pins[x] + self.pins[x+1] + self.pins[x+2]\n",
    "            else:\n",
    "                self.score += self.pins[x]\n",
    "            x += 1\n",
    "        print(self.score)\n",
    "                "
   ]
  },
  {
   "cell_type": "markdown",
   "metadata": {},
   "source": [
    "Right off the bat, you will notice that we have a new class attribute called self.pins that holds the default pin list, which is eleven zeroes. Then in our roll method, we add the correct scores to the\n",
    "correct position in the self.pins list in the first loop. Then in the second loop, we check to see if the pins knocked down equals ten. If it does, we add it and the next two scores to score. Otherwise, we do what we did before. At the end of the method, we print out the score to check if it’s what we expect. At this point, we’re ready to code up our final test."
   ]
  },
  {
   "cell_type": "markdown",
   "metadata": {},
   "source": [
    "### 28.2.3 The Third (and Final) Test\n",
    "\n",
    "Our last test will test for the correct score that would result should someone roll a spare. The test is easy, the solution is slightly more difficult. While we’re at it, we’re going to refactor the test code a\n",
    "bit."
   ]
  },
  {
   "cell_type": "code",
   "execution_count": 30,
   "metadata": {
    "collapsed": false
   },
   "outputs": [
    {
     "name": "stderr",
     "output_type": "stream",
     "text": [
      "E\n",
      "======================================================================\n",
      "ERROR: /Users/michalsznajder/Library/Jupyter/runtime/kernel-764b5c03-f65e-4138-9a0d-81aa6677a0aa (unittest.loader._FailedTest)\n",
      "----------------------------------------------------------------------\n",
      "AttributeError: module '__main__' has no attribute '/Users/michalsznajder/Library/Jupyter/runtime/kernel-764b5c03-f65e-4138-9a0d-81aa6677a0aa'\n",
      "\n",
      "----------------------------------------------------------------------\n",
      "Ran 1 test in 0.001s\n",
      "\n",
      "FAILED (errors=1)\n"
     ]
    },
    {
     "ename": "SystemExit",
     "evalue": "True",
     "output_type": "error",
     "traceback": [
      "An exception has occurred, use %tb to see the full traceback.\n",
      "\u001b[0;31mSystemExit\u001b[0m\u001b[0;31m:\u001b[0m True\n"
     ]
    },
    {
     "name": "stderr",
     "output_type": "stream",
     "text": [
      "//anaconda/lib/python3.6/site-packages/IPython/core/interactiveshell.py:2889: UserWarning: To exit: use 'exit', 'quit', or Ctrl-D.\n",
      "  warn(\"To exit: use 'exit', 'quit', or Ctrl-D.\", stacklevel=1)\n"
     ]
    }
   ],
   "source": [
    "# from game_v2 import Game\n",
    "import unittest\n",
    "\n",
    "class TestBowling(unittest.TestCase):\n",
    "    \"\"\"\"\"\"\n",
    "    \n",
    "    def set_up(self):\n",
    "        \"\"\"\"\"\"\n",
    "        self.game = Game()\n",
    "        \n",
    "    def test_all_ones(self):\n",
    "        \"\"\"\n",
    "        If you don't get a strike or a spare, then you just add up the\n",
    "        face value of the frame. In this case, each frame is worth \n",
    "        one point, so the total is eleven.\n",
    "        \"\"\"\n",
    "        pins = [1 for i in range(11)]\n",
    "        self.game.roll(11, pins)\n",
    "        self.assertEqual(self.game.score, 11)\n",
    "        \n",
    "    def test_spare(self):\n",
    "        \"\"\"\n",
    "        A spare is worth 10, plus the value of your next roll. So in this\n",
    "        case, the first frame will be 5+5+5 or 15 and the second will be \n",
    "        5+4 or 9. The total is 15+9, which equals 24.\n",
    "        \"\"\"\n",
    "        self.game.roll(11, [5, 5, 5, 4])\n",
    "        self.assertEqual(self.game.score, 24)\n",
    "    \n",
    "    def test_strike(self):\n",
    "        \"\"\"\n",
    "        A strike is 10 + the value of the next two rolls. So in this case\n",
    "        the first frame will be 10+5+4 or 19 and the second will be\n",
    "        5+4. The total score would be 19+9 or 28.\n",
    "        \"\"\"\n",
    "        self.game.roll(11, [10, 5, 4])\n",
    "        self.assertEqual(self.game.score, 28)\n",
    "        \n",
    "if __name__ == \"__main__\":\n",
    "    unittest.main()"
   ]
  },
  {
   "cell_type": "markdown",
   "metadata": {},
   "source": [
    "First off, we added a setUp method that will create a self.game object for us for each test. If we were accessing a database or something like that, we would probably have a tear down method too for\n",
    "closing connections or files or that sort of thing. These are run at the beginning and end of each test respectively should they exist. The test_all_ones and test_strike tests are basically the same except\n",
    "that they are using “self.game” now. The only the new test is test_spare. The docstring explains how spares work and the code is just two lines."
   ]
  },
  {
   "cell_type": "code",
   "execution_count": 32,
   "metadata": {
    "collapsed": true
   },
   "outputs": [],
   "source": [
    "# game_v2.py\n",
    "\n",
    "class Game:\n",
    "    \"\"\"\"\"\"\n",
    "\n",
    "    def __init__(self):\n",
    "        \"\"\"Constructor\"\"\"\n",
    "        self.score = 0\n",
    "        self.pins = [0 for i in range(11)]\n",
    "\n",
    "    def roll(self, numOfRolls, pins):\n",
    "        \"\"\"\"\"\"\n",
    "        x = 0\n",
    "        for pin in pins:\n",
    "            self.pins[x] = pin\n",
    "            x += 1\n",
    "        x = 0\n",
    "        spare_begin = 0\n",
    "        spare_end = 2\n",
    "        for roll in range(numOfRolls):\n",
    "            spare = sum(self.pins[spare_begin:spare_end])\n",
    "            if self.pins[x] == 10:\n",
    "                self.score = self.pins[x] + self.pins[x+1] + self.pins[x+2]\n",
    "            elif spare == 10:\n",
    "                self.score = spare + self.pins[x+2]\n",
    "                x += 1\n",
    "            else:\n",
    "                self.score += self.pins[x]\n",
    "            x += 1\n",
    "            if x == 11:\n",
    "                break\n",
    "            spare_begin += 2\n",
    "            spare_end += 2\n",
    "        print(self.score)"
   ]
  },
  {
   "cell_type": "markdown",
   "metadata": {},
   "source": [
    "For this part of the puzzle, we add to our conditional statement in our loop. To calculate the spare’s value, we use the spare_begin and spare_end list positions to get the right values from our list and\n",
    "then we sum them up. That’s what the spare variable is for. That may be better placed in the elif, but I’ll leave that for the reader to experiment with. Technically, that’s just the first half of the spare\n",
    "score. The second half are the next two rolls, which is what you’ll find in the calculation in the elif portion of the current code. The rest of the code is the same."
   ]
  },
  {
   "cell_type": "markdown",
   "metadata": {},
   "source": [
    "Read unittest module documentation:\n",
    "https://docs.python.org/2/library/unittest.html"
   ]
  },
  {
   "cell_type": "code",
   "execution_count": null,
   "metadata": {
    "collapsed": true
   },
   "outputs": [],
   "source": []
  }
 ],
 "metadata": {
  "kernelspec": {
   "display_name": "Python 3",
   "language": "python",
   "name": "python3"
  },
  "language_info": {
   "codemirror_mode": {
    "name": "ipython",
    "version": 3
   },
   "file_extension": ".py",
   "mimetype": "text/x-python",
   "name": "python",
   "nbconvert_exporter": "python",
   "pygments_lexer": "ipython3",
   "version": "3.6.0"
  }
 },
 "nbformat": 4,
 "nbformat_minor": 2
}
